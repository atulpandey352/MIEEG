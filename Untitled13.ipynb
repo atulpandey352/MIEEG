{
  "nbformat": 4,
  "nbformat_minor": 0,
  "metadata": {
    "colab": {
      "name": "Untitled13.ipynb",
      "provenance": [],
      "collapsed_sections": []
    },
    "kernelspec": {
      "name": "python3",
      "display_name": "Python 3"
    },
    "language_info": {
      "name": "python"
    },
    "accelerator": "TPU"
  },
  "cells": [
    {
      "cell_type": "markdown",
      "metadata": {
        "id": "NBt59Fjjb_sF"
      },
      "source": [
        "# BCI IV(I) DATASET\n"
      ]
    },
    {
      "cell_type": "code",
      "metadata": {
        "colab": {
          "base_uri": "https://localhost:8080/"
        },
        "id": "s0XgIbbJamci",
        "outputId": "f28b4d53-c683-4dac-c8ea-4846cb841be3"
      },
      "source": [
        "from google.colab import drive\n",
        "drive.mount('/content/gdrive')"
      ],
      "execution_count": 2,
      "outputs": [
        {
          "output_type": "stream",
          "text": [
            "Mounted at /content/gdrive\n"
          ],
          "name": "stdout"
        }
      ]
    },
    {
      "cell_type": "code",
      "metadata": {
        "id": "RNOfsNFGa7_Q"
      },
      "source": [
        "root_path = 'gdrive/My Drive/po/so'"
      ],
      "execution_count": 3,
      "outputs": []
    },
    {
      "cell_type": "code",
      "metadata": {
        "colab": {
          "base_uri": "https://localhost:8080/"
        },
        "id": "O--FK0sTbhc0",
        "outputId": "d6e4c679-296b-4e5d-b6df-1a7783ca08b9"
      },
      "source": [
        "import os\n",
        "os.listdir(root_path)"
      ],
      "execution_count": 4,
      "outputs": [
        {
          "output_type": "execute_result",
          "data": {
            "text/plain": [
              "['BCICIV_calib_ds1c_1000Hz.mat',\n",
              " 'BCICIV_calib_ds1e_1000Hz.mat',\n",
              " 'BCICIV_calib_ds1d_1000Hz.mat',\n",
              " 'BCICIV_calib_ds1a_1000Hz.mat',\n",
              " 'BCICIV_calib_ds1b_1000Hz.mat',\n",
              " 'BCICIV_calib_ds1f_1000Hz.mat',\n",
              " 'BCICIV_calib_ds1g_1000Hz.mat']"
            ]
          },
          "metadata": {
            "tags": []
          },
          "execution_count": 4
        }
      ]
    },
    {
      "cell_type": "code",
      "metadata": {
        "id": "YxmlmSHJcWwL"
      },
      "source": [
        "#!unzip \"gdrive/My Drive/po/BCICIV_1calib_1000Hz_mat.zip\" -d \"gdrive/My Drive/po/so\""
      ],
      "execution_count": 5,
      "outputs": []
    },
    {
      "cell_type": "code",
      "metadata": {
        "id": "siegMA_5cFor",
        "colab": {
          "base_uri": "https://localhost:8080/",
          "height": 306
        },
        "outputId": "3dcfe8fd-9c6f-4e73-f86b-4244e95e312b"
      },
      "source": [
        "pip install --upgrade numpy"
      ],
      "execution_count": 6,
      "outputs": [
        {
          "output_type": "stream",
          "text": [
            "Collecting numpy\n",
            "\u001b[?25l  Downloading https://files.pythonhosted.org/packages/3f/03/c3526fb4e79a793498829ca570f2f868204ad9a8040afcd72d82a8f121db/numpy-1.21.0-cp37-cp37m-manylinux_2_12_x86_64.manylinux2010_x86_64.whl (15.7MB)\n",
            "\u001b[K     |████████████████████████████████| 15.7MB 186kB/s \n",
            "\u001b[31mERROR: tensorflow 2.5.0 has requirement numpy~=1.19.2, but you'll have numpy 1.21.0 which is incompatible.\u001b[0m\n",
            "\u001b[31mERROR: datascience 0.10.6 has requirement folium==0.2.1, but you'll have folium 0.8.3 which is incompatible.\u001b[0m\n",
            "\u001b[31mERROR: albumentations 0.1.12 has requirement imgaug<0.2.7,>=0.2.5, but you'll have imgaug 0.2.9 which is incompatible.\u001b[0m\n",
            "\u001b[?25hInstalling collected packages: numpy\n",
            "  Found existing installation: numpy 1.19.5\n",
            "    Uninstalling numpy-1.19.5:\n",
            "      Successfully uninstalled numpy-1.19.5\n",
            "Successfully installed numpy-1.21.0\n"
          ],
          "name": "stdout"
        },
        {
          "output_type": "display_data",
          "data": {
            "application/vnd.colab-display-data+json": {
              "pip_warning": {
                "packages": [
                  "numpy"
                ]
              }
            }
          },
          "metadata": {
            "tags": []
          }
        }
      ]
    },
    {
      "cell_type": "code",
      "metadata": {
        "id": "nPjIAVzCexLT"
      },
      "source": [
        "#import mne"
      ],
      "execution_count": 7,
      "outputs": []
    },
    {
      "cell_type": "code",
      "metadata": {
        "id": "OHS45DKRc3zt"
      },
      "source": [
        ""
      ],
      "execution_count": 7,
      "outputs": []
    },
    {
      "cell_type": "markdown",
      "metadata": {
        "id": "HhB192Zr5Ifr"
      },
      "source": [
        "# Extracting data"
      ]
    },
    {
      "cell_type": "code",
      "metadata": {
        "id": "jsnNhsmxfequ"
      },
      "source": [
        "import scipy\n",
        "from scipy.io import loadmat\n",
        "annots = loadmat('gdrive/My Drive/po/so/BCICIV_calib_ds1a_1000Hz.mat')\n"
      ],
      "execution_count": 8,
      "outputs": []
    },
    {
      "cell_type": "code",
      "metadata": {
        "colab": {
          "base_uri": "https://localhost:8080/"
        },
        "id": "9SxHnDLgCQiF",
        "outputId": "d80413d3-9231-4e58-cb0b-cd7f26d0ab99"
      },
      "source": [
        "annots.keys()"
      ],
      "execution_count": 9,
      "outputs": [
        {
          "output_type": "execute_result",
          "data": {
            "text/plain": [
              "dict_keys(['__header__', '__version__', '__globals__', 'cnt', 'mrk', 'nfo'])"
            ]
          },
          "metadata": {
            "tags": []
          },
          "execution_count": 9
        }
      ]
    },
    {
      "cell_type": "code",
      "metadata": {
        "colab": {
          "base_uri": "https://localhost:8080/"
        },
        "id": "o3cwlwh0DDUE",
        "outputId": "d1b63af5-18ef-4da0-87d4-333014c75509"
      },
      "source": [
        "type(annots['mrk']),annots['mrk'].shape\n",
        "type(annots['mrk'][0][0]),annots['mrk'][0]"
      ],
      "execution_count": 10,
      "outputs": [
        {
          "output_type": "execute_result",
          "data": {
            "text/plain": [
              "(numpy.void,\n",
              " array([(array([[  20913,   28913,   36913,   44913,   52914,   60914,   68914,\n",
              "           76915,   84915,   92915,  100915,  108916,  116916,  124916,\n",
              "          132917,  162940,  170941,  178941,  186941,  194942,  202942,\n",
              "          210942,  218942,  226943,  234943,  242943,  250944,  258944,\n",
              "          266944,  274944,  304948,  312949,  320949,  328949,  336950,\n",
              "          344950,  352950,  360950,  368951,  376951,  384951,  392952,\n",
              "          400952,  408952,  416952,  446957,  454958,  462958,  470958,\n",
              "          478959,  486959,  494959,  502959,  510960,  518960,  526960,\n",
              "          534961,  542961,  550961,  558961,  588950,  596951,  604951,\n",
              "          612951,  620952,  628952,  636952,  644952,  652953,  660953,\n",
              "          668953,  676953,  684954,  692954,  700954,  730944,  738944,\n",
              "          746944,  754945,  762945,  770945,  778945,  786946,  794946,\n",
              "          802946,  810947,  818947,  826947,  834947,  842948,  872937,\n",
              "          880937,  888937,  896938,  904938,  912938,  920938,  928939,\n",
              "          936939,  944939,  973846,  981846,  989847,  997847, 1005847,\n",
              "         1013848, 1021848, 1029848, 1037848, 1045849, 1053849, 1061849,\n",
              "         1069849, 1077850, 1085850, 1115842, 1123842, 1131843, 1139843,\n",
              "         1147843, 1155844, 1163844, 1171844, 1179844, 1187845, 1195845,\n",
              "         1203845, 1211846, 1219846, 1227846, 1257866, 1265866, 1273866,\n",
              "         1281867, 1289867, 1297867, 1305868, 1313868, 1321868, 1329868,\n",
              "         1337869, 1345869, 1353869, 1361870, 1369870, 1399859, 1407860,\n",
              "         1415860, 1423860, 1431861, 1439861, 1447861, 1455861, 1463862,\n",
              "         1471862, 1479862, 1487862, 1495863, 1503863, 1511863, 1541852,\n",
              "         1549853, 1557853, 1565853, 1573854, 1581854, 1589854, 1597854,\n",
              "         1605855, 1613855, 1621855, 1629855, 1637856, 1645856, 1653856,\n",
              "         1683846, 1691846, 1699846, 1707847, 1715847, 1723847, 1731847,\n",
              "         1739848, 1747848, 1755848, 1763849, 1771849, 1779849, 1787849,\n",
              "         1795850, 1825839, 1833839, 1841839, 1849840, 1857840, 1865840,\n",
              "         1873840, 1881841, 1889841, 1897841]], dtype=int32), array([[ 1,  1, -1,  1,  1,  1,  1, -1, -1,  1, -1,  1, -1, -1, -1,  1,\n",
              "         -1, -1,  1, -1,  1,  1, -1, -1, -1, -1, -1,  1, -1, -1, -1, -1,\n",
              "         -1, -1, -1, -1, -1,  1,  1,  1, -1, -1,  1, -1,  1, -1,  1,  1,\n",
              "          1,  1,  1,  1,  1, -1,  1,  1,  1,  1,  1,  1, -1, -1, -1, -1,\n",
              "          1, -1,  1, -1,  1, -1, -1, -1,  1, -1, -1, -1,  1, -1,  1, -1,\n",
              "         -1, -1,  1,  1,  1, -1,  1,  1,  1, -1, -1,  1,  1,  1,  1, -1,\n",
              "          1,  1, -1,  1, -1,  1,  1,  1, -1,  1,  1, -1,  1, -1,  1, -1,\n",
              "         -1, -1, -1,  1,  1, -1,  1,  1,  1,  1, -1,  1, -1, -1,  1,  1,\n",
              "         -1, -1,  1,  1,  1,  1,  1,  1,  1, -1, -1, -1, -1,  1, -1, -1,\n",
              "          1, -1, -1, -1,  1,  1, -1, -1,  1,  1, -1,  1,  1,  1,  1, -1,\n",
              "          1, -1,  1, -1,  1, -1, -1, -1, -1, -1,  1,  1,  1,  1, -1, -1,\n",
              "         -1, -1, -1,  1,  1, -1,  1, -1, -1, -1,  1, -1,  1, -1,  1, -1,\n",
              "         -1,  1, -1, -1, -1,  1,  1,  1]], dtype=int16))],\n",
              "       dtype=[('pos', 'O'), ('y', 'O')]))"
            ]
          },
          "metadata": {
            "tags": []
          },
          "execution_count": 10
        }
      ]
    },
    {
      "cell_type": "code",
      "metadata": {
        "colab": {
          "base_uri": "https://localhost:8080/"
        },
        "id": "kLzw68WxEuke",
        "outputId": "ceb4fe98-4499-4c89-ea85-e1b2c18ca6b4"
      },
      "source": [
        "type(annots['nfo']),annots['nfo'].shape\n",
        "type(annots['nfo'][0][0]),annots['nfo'][0]"
      ],
      "execution_count": 11,
      "outputs": [
        {
          "output_type": "execute_result",
          "data": {
            "text/plain": [
              "(numpy.void,\n",
              " array([(array([[1000]], dtype=uint16), array([[array(['left'], dtype='<U4'), array(['foot'], dtype='<U4')]],\n",
              "       dtype=object), array([[array(['AF3'], dtype='<U3'), array(['AF4'], dtype='<U3'),\n",
              "         array(['F5'], dtype='<U2'), array(['F3'], dtype='<U2'),\n",
              "         array(['F1'], dtype='<U2'), array(['Fz'], dtype='<U2'),\n",
              "         array(['F2'], dtype='<U2'), array(['F4'], dtype='<U2'),\n",
              "         array(['F6'], dtype='<U2'), array(['FC5'], dtype='<U3'),\n",
              "         array(['FC3'], dtype='<U3'), array(['FC1'], dtype='<U3'),\n",
              "         array(['FCz'], dtype='<U3'), array(['FC2'], dtype='<U3'),\n",
              "         array(['FC4'], dtype='<U3'), array(['FC6'], dtype='<U3'),\n",
              "         array(['CFC7'], dtype='<U4'), array(['CFC5'], dtype='<U4'),\n",
              "         array(['CFC3'], dtype='<U4'), array(['CFC1'], dtype='<U4'),\n",
              "         array(['CFC2'], dtype='<U4'), array(['CFC4'], dtype='<U4'),\n",
              "         array(['CFC6'], dtype='<U4'), array(['CFC8'], dtype='<U4'),\n",
              "         array(['T7'], dtype='<U2'), array(['C5'], dtype='<U2'),\n",
              "         array(['C3'], dtype='<U2'), array(['C1'], dtype='<U2'),\n",
              "         array(['Cz'], dtype='<U2'), array(['C2'], dtype='<U2'),\n",
              "         array(['C4'], dtype='<U2'), array(['C6'], dtype='<U2'),\n",
              "         array(['T8'], dtype='<U2'), array(['CCP7'], dtype='<U4'),\n",
              "         array(['CCP5'], dtype='<U4'), array(['CCP3'], dtype='<U4'),\n",
              "         array(['CCP1'], dtype='<U4'), array(['CCP2'], dtype='<U4'),\n",
              "         array(['CCP4'], dtype='<U4'), array(['CCP6'], dtype='<U4'),\n",
              "         array(['CCP8'], dtype='<U4'), array(['CP5'], dtype='<U3'),\n",
              "         array(['CP3'], dtype='<U3'), array(['CP1'], dtype='<U3'),\n",
              "         array(['CPz'], dtype='<U3'), array(['CP2'], dtype='<U3'),\n",
              "         array(['CP4'], dtype='<U3'), array(['CP6'], dtype='<U3'),\n",
              "         array(['P5'], dtype='<U2'), array(['P3'], dtype='<U2'),\n",
              "         array(['P1'], dtype='<U2'), array(['Pz'], dtype='<U2'),\n",
              "         array(['P2'], dtype='<U2'), array(['P4'], dtype='<U2'),\n",
              "         array(['P6'], dtype='<U2'), array(['PO1'], dtype='<U3'),\n",
              "         array(['PO2'], dtype='<U3'), array(['O1'], dtype='<U2'),\n",
              "         array(['O2'], dtype='<U2')]], dtype=object), array([[-0.20109028],\n",
              "        [ 0.20109028],\n",
              "        [-0.48547489],\n",
              "        [-0.32894737],\n",
              "        [-0.16535231],\n",
              "        [ 0.        ],\n",
              "        [ 0.16535231],\n",
              "        [ 0.32894737],\n",
              "        [ 0.48547489],\n",
              "        [-0.60591541],\n",
              "        [-0.39919579],\n",
              "        [-0.19765935],\n",
              "        [ 0.        ],\n",
              "        [ 0.19765935],\n",
              "        [ 0.39919579],\n",
              "        [ 0.60591541],\n",
              "        [-0.74834683],\n",
              "        [-0.52472976],\n",
              "        [-0.30963911],\n",
              "        [-0.10226303],\n",
              "        [ 0.10226303],\n",
              "        [ 0.30963911],\n",
              "        [ 0.52472976],\n",
              "        [ 0.74834683],\n",
              "        [-0.87719298],\n",
              "        [-0.64569058],\n",
              "        [-0.421549  ],\n",
              "        [-0.20773757],\n",
              "        [ 0.        ],\n",
              "        [ 0.20773757],\n",
              "        [ 0.421549  ],\n",
              "        [ 0.64569058],\n",
              "        [ 0.87719298],\n",
              "        [-0.74834683],\n",
              "        [-0.52472976],\n",
              "        [-0.30963911],\n",
              "        [-0.10226303],\n",
              "        [ 0.10226303],\n",
              "        [ 0.30963911],\n",
              "        [ 0.52472976],\n",
              "        [ 0.74834683],\n",
              "        [-0.60591541],\n",
              "        [-0.39919579],\n",
              "        [-0.19765935],\n",
              "        [ 0.        ],\n",
              "        [ 0.19765935],\n",
              "        [ 0.39919579],\n",
              "        [ 0.60591541],\n",
              "        [-0.48547489],\n",
              "        [-0.32894737],\n",
              "        [-0.16535231],\n",
              "        [ 0.        ],\n",
              "        [ 0.16535231],\n",
              "        [ 0.32894737],\n",
              "        [ 0.48547489],\n",
              "        [-0.10395865],\n",
              "        [ 0.10395865],\n",
              "        [-0.17113186],\n",
              "        [ 0.17113186]]), array([[ 0.68656518],\n",
              "        [ 0.68656518],\n",
              "        [ 0.52547424],\n",
              "        [ 0.46520183],\n",
              "        [ 0.43208641],\n",
              "        [ 0.421549  ],\n",
              "        [ 0.43208641],\n",
              "        [ 0.46520183],\n",
              "        [ 0.52547424],\n",
              "        [ 0.27165704],\n",
              "        [ 0.23384348],\n",
              "        [ 0.21394494],\n",
              "        [ 0.20773757],\n",
              "        [ 0.21394494],\n",
              "        [ 0.23384348],\n",
              "        [ 0.27165704],\n",
              "        [ 0.15177169],\n",
              "        [ 0.12553103],\n",
              "        [ 0.11086096],\n",
              "        [ 0.10426648],\n",
              "        [ 0.10426648],\n",
              "        [ 0.11086096],\n",
              "        [ 0.12553103],\n",
              "        [ 0.15177169],\n",
              "        [ 0.        ],\n",
              "        [ 0.        ],\n",
              "        [ 0.        ],\n",
              "        [ 0.        ],\n",
              "        [ 0.        ],\n",
              "        [ 0.        ],\n",
              "        [ 0.        ],\n",
              "        [ 0.        ],\n",
              "        [ 0.        ],\n",
              "        [-0.15177169],\n",
              "        [-0.12553103],\n",
              "        [-0.11086096],\n",
              "        [-0.10426648],\n",
              "        [-0.10426648],\n",
              "        [-0.11086096],\n",
              "        [-0.12553103],\n",
              "        [-0.15177169],\n",
              "        [-0.27165704],\n",
              "        [-0.23384348],\n",
              "        [-0.21394494],\n",
              "        [-0.20773757],\n",
              "        [-0.21394494],\n",
              "        [-0.23384348],\n",
              "        [-0.27165704],\n",
              "        [-0.52547424],\n",
              "        [-0.46520183],\n",
              "        [-0.43208641],\n",
              "        [-0.421549  ],\n",
              "        [-0.43208641],\n",
              "        [-0.46520183],\n",
              "        [-0.52547424],\n",
              "        [-0.65583812],\n",
              "        [-0.65583812],\n",
              "        [-0.86033797],\n",
              "        [-0.86033797]]))],\n",
              "       dtype=[('fs', 'O'), ('classes', 'O'), ('clab', 'O'), ('xpos', 'O'), ('ypos', 'O')]))"
            ]
          },
          "metadata": {
            "tags": []
          },
          "execution_count": 11
        }
      ]
    },
    {
      "cell_type": "code",
      "metadata": {
        "colab": {
          "base_uri": "https://localhost:8080/"
        },
        "id": "fwwJ86AbFL7A",
        "outputId": "7f303dea-332c-4554-852d-a00e35964451"
      },
      "source": [
        "type(annots['cnt']),annots['cnt'].shape\n"
      ],
      "execution_count": 12,
      "outputs": [
        {
          "output_type": "execute_result",
          "data": {
            "text/plain": [
              "(numpy.ndarray, (1905940, 59))"
            ]
          },
          "metadata": {
            "tags": []
          },
          "execution_count": 12
        }
      ]
    },
    {
      "cell_type": "code",
      "metadata": {
        "id": "B5OWywJxF3NO"
      },
      "source": [
        "import numpy as np \n",
        "mp = annots['cnt']"
      ],
      "execution_count": 13,
      "outputs": []
    },
    {
      "cell_type": "code",
      "metadata": {
        "id": "IDK7KwO4VEc_",
        "colab": {
          "base_uri": "https://localhost:8080/"
        },
        "outputId": "8db5fdf1-10cb-42fa-bccd-442f73258f96"
      },
      "source": [
        "new=mp.T\n",
        "cnt=new\n",
        "cnt.shape\n",
        "mp.shape"
      ],
      "execution_count": 14,
      "outputs": [
        {
          "output_type": "execute_result",
          "data": {
            "text/plain": [
              "(1905940, 59)"
            ]
          },
          "metadata": {
            "tags": []
          },
          "execution_count": 14
        }
      ]
    },
    {
      "cell_type": "code",
      "metadata": {
        "colab": {
          "base_uri": "https://localhost:8080/"
        },
        "id": "R_EJLGDiVaUH",
        "outputId": "271c02f6-2d31-409d-938b-2e2740232efd"
      },
      "source": [
        "import pandas as pd\n",
        "\n",
        "pos=annots['mrk'][0][0]['pos']\n",
        "y= annots['mrk'][0][0]['y']\n",
        "pos.shape\n",
        "y.shape"
      ],
      "execution_count": 15,
      "outputs": [
        {
          "output_type": "execute_result",
          "data": {
            "text/plain": [
              "(1, 200)"
            ]
          },
          "metadata": {
            "tags": []
          },
          "execution_count": 15
        }
      ]
    },
    {
      "cell_type": "code",
      "metadata": {
        "colab": {
          "base_uri": "https://localhost:8080/"
        },
        "id": "5eKN7A8lZYLV",
        "outputId": "d671e93b-fd35-49c0-eb1e-8f547362e381"
      },
      "source": [
        "mrk=np.concatenate((pos,y))\n",
        "mrk=mrk.T\n",
        "mrk.shape\n"
      ],
      "execution_count": 16,
      "outputs": [
        {
          "output_type": "execute_result",
          "data": {
            "text/plain": [
              "(200, 2)"
            ]
          },
          "metadata": {
            "tags": []
          },
          "execution_count": 16
        }
      ]
    },
    {
      "cell_type": "markdown",
      "metadata": {
        "id": "iVOyYIwL-VEG"
      },
      "source": [
        "\n",
        "\n",
        "*   fs: sampling rate,\n",
        "clab: cell array of channel labels,\n",
        "classes: cell array of the names of the motor imagery classes,\n",
        "xpos: x-position of electrodes in a 2d-projection,\n",
        "ypos: y-position of electrodes in a 2d-projection.\n",
        "\n"
      ]
    },
    {
      "cell_type": "code",
      "metadata": {
        "id": "eWaxVko3bFv4"
      },
      "source": [
        "clab=annots['nfo'][0][0]['clab']             \n",
        "ypos=annots['nfo'][0][0]['ypos']\n",
        "xpos=annots['nfo'][0][0]['xpos']\n",
        "fs=annots['nfo'][0][0]['fs']\n",
        "classes=annots['nfo'][0][0]['classes']"
      ],
      "execution_count": 17,
      "outputs": []
    },
    {
      "cell_type": "code",
      "metadata": {
        "colab": {
          "base_uri": "https://localhost:8080/"
        },
        "id": "NCZ_6F1M1anD",
        "outputId": "22197338-c16f-48d9-f1d2-bf0b2f291947"
      },
      "source": [
        "annots['nfo']['fs'][0][0][0][0]"
      ],
      "execution_count": 18,
      "outputs": [
        {
          "output_type": "execute_result",
          "data": {
            "text/plain": [
              "1000"
            ]
          },
          "metadata": {
            "tags": []
          },
          "execution_count": 18
        }
      ]
    },
    {
      "cell_type": "code",
      "metadata": {
        "colab": {
          "base_uri": "https://localhost:8080/"
        },
        "id": "icxr2B9jRRfU",
        "outputId": "fbfa38f2-1f57-4ca8-ba68-525cec40eda4"
      },
      "source": [
        "classes"
      ],
      "execution_count": 19,
      "outputs": [
        {
          "output_type": "execute_result",
          "data": {
            "text/plain": [
              "array([[array(['left'], dtype='<U4'), array(['foot'], dtype='<U4')]],\n",
              "      dtype=object)"
            ]
          },
          "metadata": {
            "tags": []
          },
          "execution_count": 19
        }
      ]
    },
    {
      "cell_type": "markdown",
      "metadata": {
        "id": "5HRKmWe5433K"
      },
      "source": [
        "# Making a raw dataset from extracted data"
      ]
    },
    {
      "cell_type": "code",
      "metadata": {
        "colab": {
          "base_uri": "https://localhost:8080/"
        },
        "id": "zBA-YoHK5W3V",
        "outputId": "2481ddd2-85d3-40a1-bb87-83a60607444c"
      },
      "source": [
        "pip install mne\n"
      ],
      "execution_count": 20,
      "outputs": [
        {
          "output_type": "stream",
          "text": [
            "Collecting mne\n",
            "\u001b[?25l  Downloading https://files.pythonhosted.org/packages/60/f7/2bf5de3fad42b66d00ee27539bc3be0260b4e66fdecc12f740cdf2daf2e7/mne-0.23.0-py3-none-any.whl (6.9MB)\n",
            "\u001b[K     |████████████████████████████████| 7.0MB 5.0MB/s \n",
            "\u001b[?25hRequirement already satisfied: scipy>=1.1.0 in /usr/local/lib/python3.7/dist-packages (from mne) (1.4.1)\n",
            "Requirement already satisfied: numpy>=1.15.4 in /usr/local/lib/python3.7/dist-packages (from mne) (1.21.0)\n",
            "Installing collected packages: mne\n",
            "Successfully installed mne-0.23.0\n"
          ],
          "name": "stdout"
        }
      ]
    },
    {
      "cell_type": "code",
      "metadata": {
        "id": "XayGsk8U5nk8"
      },
      "source": [
        "import mne "
      ],
      "execution_count": 21,
      "outputs": []
    },
    {
      "cell_type": "code",
      "metadata": {
        "id": "mKoDM8nV83Ap"
      },
      "source": [
        "n_channels = 59\n",
        "#clab=np.ndarray.tolist(clab)\n",
        "\n",
        "#\n"
      ],
      "execution_count": 22,
      "outputs": []
    },
    {
      "cell_type": "code",
      "metadata": {
        "id": "BQUBEAh1BINQ"
      },
      "source": [
        "#print(clab[0][])"
      ],
      "execution_count": 23,
      "outputs": []
    },
    {
      "cell_type": "code",
      "metadata": {
        "colab": {
          "base_uri": "https://localhost:8080/"
        },
        "id": "M5ksDneRC0tC",
        "outputId": "00ba4a87-fa1d-40dc-e711-a1493f8b673d"
      },
      "source": [
        "labels= []\n",
        "for i in range(0,len(clab[0])) :\n",
        "   a = str(clab[0][i][0])\n",
        "   labels.append(a)\n",
        "\n",
        "len(labels)\n",
        "print(labels)"
      ],
      "execution_count": 24,
      "outputs": [
        {
          "output_type": "stream",
          "text": [
            "['AF3', 'AF4', 'F5', 'F3', 'F1', 'Fz', 'F2', 'F4', 'F6', 'FC5', 'FC3', 'FC1', 'FCz', 'FC2', 'FC4', 'FC6', 'CFC7', 'CFC5', 'CFC3', 'CFC1', 'CFC2', 'CFC4', 'CFC6', 'CFC8', 'T7', 'C5', 'C3', 'C1', 'Cz', 'C2', 'C4', 'C6', 'T8', 'CCP7', 'CCP5', 'CCP3', 'CCP1', 'CCP2', 'CCP4', 'CCP6', 'CCP8', 'CP5', 'CP3', 'CP1', 'CPz', 'CP2', 'CP4', 'CP6', 'P5', 'P3', 'P1', 'Pz', 'P2', 'P4', 'P6', 'PO1', 'PO2', 'O1', 'O2']\n"
          ],
          "name": "stdout"
        }
      ]
    },
    {
      "cell_type": "code",
      "metadata": {
        "id": "H5EFBvTwEDxm"
      },
      "source": [
        "info=mne.create_info(ch_names=labels,sfreq=annots['nfo']['fs'][0][0][0][0],ch_types='eeg',verbose=None)"
      ],
      "execution_count": 25,
      "outputs": []
    },
    {
      "cell_type": "code",
      "metadata": {
        "colab": {
          "base_uri": "https://localhost:8080/"
        },
        "id": "MDxb273CEpZ9",
        "outputId": "4ea4ecb8-87f9-4778-d6f1-65336c863f94"
      },
      "source": [
        "raw=mne.io.RawArray(mp.T,info)"
      ],
      "execution_count": 26,
      "outputs": [
        {
          "output_type": "stream",
          "text": [
            "Creating RawArray with float64 data, n_channels=59, n_times=1905940\n",
            "    Range : 0 ... 1905939 =      0.000 ...  1905.939 secs\n",
            "Ready.\n"
          ],
          "name": "stdout"
        }
      ]
    },
    {
      "cell_type": "code",
      "metadata": {
        "colab": {
          "base_uri": "https://localhost:8080/"
        },
        "id": "ApPg1PuJJscf",
        "outputId": "ae9e52ae-df36-4b88-dc4d-9cbc085a23b4"
      },
      "source": [
        "print(raw)\n",
        "print(raw.info)\n",
        "print(raw.ch_names[:])"
      ],
      "execution_count": 27,
      "outputs": [
        {
          "output_type": "stream",
          "text": [
            "<RawArray | 59 x 1905940 (1905.9 s), ~858.0 MB, data loaded>\n",
            "<Info | 7 non-empty values\n",
            " bads: []\n",
            " ch_names: AF3, AF4, F5, F3, F1, Fz, F2, F4, F6, FC5, FC3, FC1, FCz, FC2, ...\n",
            " chs: 59 EEG\n",
            " custom_ref_applied: False\n",
            " highpass: 0.0 Hz\n",
            " lowpass: 500.0 Hz\n",
            " meas_date: unspecified\n",
            " nchan: 59\n",
            " projs: []\n",
            " sfreq: 1000.0 Hz\n",
            ">\n",
            "['AF3', 'AF4', 'F5', 'F3', 'F1', 'Fz', 'F2', 'F4', 'F6', 'FC5', 'FC3', 'FC1', 'FCz', 'FC2', 'FC4', 'FC6', 'CFC7', 'CFC5', 'CFC3', 'CFC1', 'CFC2', 'CFC4', 'CFC6', 'CFC8', 'T7', 'C5', 'C3', 'C1', 'Cz', 'C2', 'C4', 'C6', 'T8', 'CCP7', 'CCP5', 'CCP3', 'CCP1', 'CCP2', 'CCP4', 'CCP6', 'CCP8', 'CP5', 'CP3', 'CP1', 'CPz', 'CP2', 'CP4', 'CP6', 'P5', 'P3', 'P1', 'Pz', 'P2', 'P4', 'P6', 'PO1', 'PO2', 'O1', 'O2']\n"
          ],
          "name": "stdout"
        }
      ]
    },
    {
      "cell_type": "code",
      "metadata": {
        "colab": {
          "base_uri": "https://localhost:8080/",
          "height": 637
        },
        "id": "kUla29TcKtLD",
        "outputId": "34dfdeb0-bcb3-44a2-85af-c4187dc95ea8"
      },
      "source": [
        "raw.plot()"
      ],
      "execution_count": 28,
      "outputs": [
        {
          "output_type": "stream",
          "text": [
            "/usr/local/lib/python3.7/dist-packages/matplotlib/colors.py:263: VisibleDeprecationWarning: Creating an ndarray from ragged nested sequences (which is a list-or-tuple of lists-or-tuples-or ndarrays with different lengths or shapes) is deprecated. If you meant to do this, you must specify 'dtype=object' when creating the ndarray\n",
            "  c = np.array(c)\n"
          ],
          "name": "stderr"
        },
        {
          "output_type": "display_data",
          "data": {
            "image/png": "[encoded data removed]",
            "text/plain": [
              "<MNEBrowseFigure size 432x288 with 4 Axes>"
            ]
          },
          "metadata": {
            "tags": [],
            "needs_background": "light"
          }
        },
        {
          "output_type": "execute_result",
          "data": {
            "image/png": "[encoded data removed]",
            "text/plain": [
              "<MNEBrowseFigure size 432x288 with 4 Axes>"
            ]
          },
          "metadata": {
            "tags": []
          },
          "execution_count": 28
        }
      ]
    },
    {
      "cell_type": "code",
      "metadata": {
        "id": "IQESmlirRa5Z",
        "colab": {
          "base_uri": "https://localhost:8080/"
        },
        "outputId": "218ddae4-7225-4e3e-cc89-ed5933d83d76"
      },
      "source": [
        "p=np.empty((200,1),dtype='int64')\n",
        "p[:,0]=pos[0]\n",
        "yl=np.empty((200,1),dtype='int64')\n",
        "yl[:,0]=y[0]\n",
        "e=np.zeros((p.shape),dtype='int64')\n",
        "events=np.concatenate((p,e,yl),axis=1)\n",
        "events_id = {'Left': -1, 'foot': 1} \n",
        "events"
      ],
      "execution_count": 29,
      "outputs": [
        {
          "output_type": "execute_result",
          "data": {
            "text/plain": [
              "array([[  20913,       0,       1],\n",
              "       [  28913,       0,       1],\n",
              "       [  36913,       0,      -1],\n",
              "       [  44913,       0,       1],\n",
              "       [  52914,       0,       1],\n",
              "       [  60914,       0,       1],\n",
              "       [  68914,       0,       1],\n",
              "       [  76915,       0,      -1],\n",
              "       [  84915,       0,      -1],\n",
              "       [  92915,       0,       1],\n",
              "       [ 100915,       0,      -1],\n",
              "       [ 108916,       0,       1],\n",
              "       [ 116916,       0,      -1],\n",
              "       [ 124916,       0,      -1],\n",
              "       [ 132917,       0,      -1],\n",
              "       [ 162940,       0,       1],\n",
              "       [ 170941,       0,      -1],\n",
              "       [ 178941,       0,      -1],\n",
              "       [ 186941,       0,       1],\n",
              "       [ 194942,       0,      -1],\n",
              "       [ 202942,       0,       1],\n",
              "       [ 210942,       0,       1],\n",
              "       [ 218942,       0,      -1],\n",
              "       [ 226943,       0,      -1],\n",
              "       [ 234943,       0,      -1],\n",
              "       [ 242943,       0,      -1],\n",
              "       [ 250944,       0,      -1],\n",
              "       [ 258944,       0,       1],\n",
              "       [ 266944,       0,      -1],\n",
              "       [ 274944,       0,      -1],\n",
              "       [ 304948,       0,      -1],\n",
              "       [ 312949,       0,      -1],\n",
              "       [ 320949,       0,      -1],\n",
              "       [ 328949,       0,      -1],\n",
              "       [ 336950,       0,      -1],\n",
              "       [ 344950,       0,      -1],\n",
              "       [ 352950,       0,      -1],\n",
              "       [ 360950,       0,       1],\n",
              "       [ 368951,       0,       1],\n",
              "       [ 376951,       0,       1],\n",
              "       [ 384951,       0,      -1],\n",
              "       [ 392952,       0,      -1],\n",
              "       [ 400952,       0,       1],\n",
              "       [ 408952,       0,      -1],\n",
              "       [ 416952,       0,       1],\n",
              "       [ 446957,       0,      -1],\n",
              "       [ 454958,       0,       1],\n",
              "       [ 462958,       0,       1],\n",
              "       [ 470958,       0,       1],\n",
              "       [ 478959,       0,       1],\n",
              "       [ 486959,       0,       1],\n",
              "       [ 494959,       0,       1],\n",
              "       [ 502959,       0,       1],\n",
              "       [ 510960,       0,      -1],\n",
              "       [ 518960,       0,       1],\n",
              "       [ 526960,       0,       1],\n",
              "       [ 534961,       0,       1],\n",
              "       [ 542961,       0,       1],\n",
              "       [ 550961,       0,       1],\n",
              "       [ 558961,       0,       1],\n",
              "       [ 588950,       0,      -1],\n",
              "       [ 596951,       0,      -1],\n",
              "       [ 604951,       0,      -1],\n",
              "       [ 612951,       0,      -1],\n",
              "       [ 620952,       0,       1],\n",
              "       [ 628952,       0,      -1],\n",
              "       [ 636952,       0,       1],\n",
              "       [ 644952,       0,      -1],\n",
              "       [ 652953,       0,       1],\n",
              "       [ 660953,       0,      -1],\n",
              "       [ 668953,       0,      -1],\n",
              "       [ 676953,       0,      -1],\n",
              "       [ 684954,       0,       1],\n",
              "       [ 692954,       0,      -1],\n",
              "       [ 700954,       0,      -1],\n",
              "       [ 730944,       0,      -1],\n",
              "       [ 738944,       0,       1],\n",
              "       [ 746944,       0,      -1],\n",
              "       [ 754945,       0,       1],\n",
              "       [ 762945,       0,      -1],\n",
              "       [ 770945,       0,      -1],\n",
              "       [ 778945,       0,      -1],\n",
              "       [ 786946,       0,       1],\n",
              "       [ 794946,       0,       1],\n",
              "       [ 802946,       0,       1],\n",
              "       [ 810947,       0,      -1],\n",
              "       [ 818947,       0,       1],\n",
              "       [ 826947,       0,       1],\n",
              "       [ 834947,       0,       1],\n",
              "       [ 842948,       0,      -1],\n",
              "       [ 872937,       0,      -1],\n",
              "       [ 880937,       0,       1],\n",
              "       [ 888937,       0,       1],\n",
              "       [ 896938,       0,       1],\n",
              "       [ 904938,       0,       1],\n",
              "       [ 912938,       0,      -1],\n",
              "       [ 920938,       0,       1],\n",
              "       [ 928939,       0,       1],\n",
              "       [ 936939,       0,      -1],\n",
              "       [ 944939,       0,       1],\n",
              "       [ 973846,       0,      -1],\n",
              "       [ 981846,       0,       1],\n",
              "       [ 989847,       0,       1],\n",
              "       [ 997847,       0,       1],\n",
              "       [1005847,       0,      -1],\n",
              "       [1013848,       0,       1],\n",
              "       [1021848,       0,       1],\n",
              "       [1029848,       0,      -1],\n",
              "       [1037848,       0,       1],\n",
              "       [1045849,       0,      -1],\n",
              "       [1053849,       0,       1],\n",
              "       [1061849,       0,      -1],\n",
              "       [1069849,       0,      -1],\n",
              "       [1077850,       0,      -1],\n",
              "       [1085850,       0,      -1],\n",
              "       [1115842,       0,       1],\n",
              "       [1123842,       0,       1],\n",
              "       [1131843,       0,      -1],\n",
              "       [1139843,       0,       1],\n",
              "       [1147843,       0,       1],\n",
              "       [1155844,       0,       1],\n",
              "       [1163844,       0,       1],\n",
              "       [1171844,       0,      -1],\n",
              "       [1179844,       0,       1],\n",
              "       [1187845,       0,      -1],\n",
              "       [1195845,       0,      -1],\n",
              "       [1203845,       0,       1],\n",
              "       [1211846,       0,       1],\n",
              "       [1219846,       0,      -1],\n",
              "       [1227846,       0,      -1],\n",
              "       [1257866,       0,       1],\n",
              "       [1265866,       0,       1],\n",
              "       [1273866,       0,       1],\n",
              "       [1281867,       0,       1],\n",
              "       [1289867,       0,       1],\n",
              "       [1297867,       0,       1],\n",
              "       [1305868,       0,       1],\n",
              "       [1313868,       0,      -1],\n",
              "       [1321868,       0,      -1],\n",
              "       [1329868,       0,      -1],\n",
              "       [1337869,       0,      -1],\n",
              "       [1345869,       0,       1],\n",
              "       [1353869,       0,      -1],\n",
              "       [1361870,       0,      -1],\n",
              "       [1369870,       0,       1],\n",
              "       [1399859,       0,      -1],\n",
              "       [1407860,       0,      -1],\n",
              "       [1415860,       0,      -1],\n",
              "       [1423860,       0,       1],\n",
              "       [1431861,       0,       1],\n",
              "       [1439861,       0,      -1],\n",
              "       [1447861,       0,      -1],\n",
              "       [1455861,       0,       1],\n",
              "       [1463862,       0,       1],\n",
              "       [1471862,       0,      -1],\n",
              "       [1479862,       0,       1],\n",
              "       [1487862,       0,       1],\n",
              "       [1495863,       0,       1],\n",
              "       [1503863,       0,       1],\n",
              "       [1511863,       0,      -1],\n",
              "       [1541852,       0,       1],\n",
              "       [1549853,       0,      -1],\n",
              "       [1557853,       0,       1],\n",
              "       [1565853,       0,      -1],\n",
              "       [1573854,       0,       1],\n",
              "       [1581854,       0,      -1],\n",
              "       [1589854,       0,      -1],\n",
              "       [1597854,       0,      -1],\n",
              "       [1605855,       0,      -1],\n",
              "       [1613855,       0,      -1],\n",
              "       [1621855,       0,       1],\n",
              "       [1629855,       0,       1],\n",
              "       [1637856,       0,       1],\n",
              "       [1645856,       0,       1],\n",
              "       [1653856,       0,      -1],\n",
              "       [1683846,       0,      -1],\n",
              "       [1691846,       0,      -1],\n",
              "       [1699846,       0,      -1],\n",
              "       [1707847,       0,      -1],\n",
              "       [1715847,       0,       1],\n",
              "       [1723847,       0,       1],\n",
              "       [1731847,       0,      -1],\n",
              "       [1739848,       0,       1],\n",
              "       [1747848,       0,      -1],\n",
              "       [1755848,       0,      -1],\n",
              "       [1763849,       0,      -1],\n",
              "       [1771849,       0,       1],\n",
              "       [1779849,       0,      -1],\n",
              "       [1787849,       0,       1],\n",
              "       [1795850,       0,      -1],\n",
              "       [1825839,       0,       1],\n",
              "       [1833839,       0,      -1],\n",
              "       [1841839,       0,      -1],\n",
              "       [1849840,       0,       1],\n",
              "       [1857840,       0,      -1],\n",
              "       [1865840,       0,      -1],\n",
              "       [1873840,       0,      -1],\n",
              "       [1881841,       0,       1],\n",
              "       [1889841,       0,       1],\n",
              "       [1897841,       0,       1]])"
            ]
          },
          "metadata": {
            "tags": []
          },
          "execution_count": 29
        }
      ]
    },
    {
      "cell_type": "code",
      "metadata": {
        "id": "FFRnoEqBm_Kc",
        "colab": {
          "base_uri": "https://localhost:8080/"
        },
        "outputId": "1aed3c2d-1310-475a-8f9b-a18f635af29d"
      },
      "source": [
        "tmin, tmax = 0.5, 2.5\n",
        "# Read epochs\n",
        "epochs = mne.Epochs(raw, events, events_id, tmin, tmax, proj=True,\n",
        "                    picks=('eeg'), baseline=(None, None), preload=True)"
      ],
      "execution_count": 30,
      "outputs": [
        {
          "output_type": "stream",
          "text": [
            "Not setting metadata\n",
            "Not setting metadata\n",
            "200 matching events found\n",
            "Setting baseline interval to [0.5, 2.5] sec\n",
            "Applying baseline correction (mode: mean)\n",
            "0 projection items activated\n",
            "Loading data for 200 events and 2001 original time points ...\n",
            "0 bad epochs dropped\n"
          ],
          "name": "stdout"
        }
      ]
    },
    {
      "cell_type": "code",
      "metadata": {
        "id": "1NjYyBr35_Qy"
      },
      "source": [
        "for i in range(1) :\n",
        "  cl_lab=classes[0][i][0]\n",
        "\n",
        "  "
      ],
      "execution_count": 31,
      "outputs": []
    },
    {
      "cell_type": "code",
      "metadata": {
        "id": "eXZZUPwwGTAd"
      },
      "source": [
        ""
      ],
      "execution_count": 31,
      "outputs": []
    },
    {
      "cell_type": "code",
      "metadata": {
        "id": "n2r1NaWcbzhX"
      },
      "source": [
        "\n",
        "EEG=annots['cnt'].T\n",
        "nchannels,nsamples=EEG.shape\n",
        "channel_names=clab[0][0][:]\n",
        "event_onsets=annots['mrk'][0][0][0]\n",
        "event_codes=y\n",
        "labels=np.zeros((1,nsamples),int)\n",
        "labels[0,event_onsets]=event_codes\n",
        "cl_lab=classes[0]\n",
        "cl1=cl_lab[0]\n",
        "cl2=cl_lab[1]\n",
        "nclasses=len(cl_lab)\n",
        "nevents=len(event_onsets)"
      ],
      "execution_count": 32,
      "outputs": []
    },
    {
      "cell_type": "code",
      "metadata": {
        "id": "ocu0XQPjAtZV"
      },
      "source": [
        "cl_lab=['left','right']"
      ],
      "execution_count": 33,
      "outputs": []
    },
    {
      "cell_type": "code",
      "metadata": {
        "id": "l14QQqJ-tvQu"
      },
      "source": [
        "trials={}\n",
        "#time window to extract for each trial 0.5s to 2.5s\n",
        "win= np.arange(int(0.5*100),int(2.5*100))\n",
        "nsamples=len(win)\n",
        "for cl,code in zip(cl_lab,np.unique(event_codes)):\n",
        "  cl_onsets= event_onsets[event_codes==code]\n",
        "  trials[cl]=np.zeros([59,200,100])\n",
        "  for i,onset in enumerate(cl_onsets):\n",
        "    trials[cl][:,:,i]=EEG[:,(win+onset)]"
      ],
      "execution_count": 34,
      "outputs": []
    },
    {
      "cell_type": "code",
      "metadata": {
        "colab": {
          "base_uri": "https://localhost:8080/"
        },
        "id": "ha-d0srsKB0v",
        "outputId": "cdea0630-3c6d-44f8-de7c-1c4d6a344cec"
      },
      "source": [
        "epochs.get_data().shape\n"
      ],
      "execution_count": 35,
      "outputs": [
        {
          "output_type": "execute_result",
          "data": {
            "text/plain": [
              "(200, 59, 2001)"
            ]
          },
          "metadata": {
            "tags": []
          },
          "execution_count": 35
        }
      ]
    },
    {
      "cell_type": "code",
      "metadata": {
        "colab": {
          "base_uri": "https://localhost:8080/"
        },
        "id": "iHARZfcNOc_h",
        "outputId": "45916ad1-c022-4748-e78c-dac355313159"
      },
      "source": [
        "mne.decoding.CSP(6)"
      ],
      "execution_count": 36,
      "outputs": [
        {
          "output_type": "execute_result",
          "data": {
            "text/plain": [
              "CSP(component_order='mutual_info', cov_est='concat', cov_method_params=None,\n",
              "  log=None, n_components=6, norm_trace=False, rank=None, reg=None,\n",
              "  transform_into='average_power')"
            ]
          },
          "metadata": {
            "tags": []
          },
          "execution_count": 36
        }
      ]
    },
    {
      "cell_type": "code",
      "metadata": {
        "colab": {
          "base_uri": "https://localhost:8080/"
        },
        "id": "hQLTEW5HsBsv",
        "outputId": "b3ba0c47-094e-4ae5-a2d4-b2974f94f1f7"
      },
      "source": [
        "epochs.get_data().shape"
      ],
      "execution_count": 37,
      "outputs": [
        {
          "output_type": "execute_result",
          "data": {
            "text/plain": [
              "(200, 59, 2001)"
            ]
          },
          "metadata": {
            "tags": []
          },
          "execution_count": 37
        }
      ]
    },
    {
      "cell_type": "markdown",
      "metadata": {
        "id": "XtmIi8JB5TBa"
      },
      "source": [
        "# APPLYING CSP \n"
      ]
    },
    {
      "cell_type": "code",
      "metadata": {
        "id": "HdQYAFY3q_DE"
      },
      "source": [
        "epochs_train=epochs.copy()"
      ],
      "execution_count": 38,
      "outputs": []
    },
    {
      "cell_type": "code",
      "metadata": {
        "colab": {
          "base_uri": "https://localhost:8080/",
          "height": 117
        },
        "id": "y2rD6Igr5vDf",
        "outputId": "54cbf213-fd8a-4463-e902-da106bef9182"
      },
      "source": [
        "epochs_train"
      ],
      "execution_count": 39,
      "outputs": [
        {
          "output_type": "execute_result",
          "data": {
            "text/html": [
              "\n",
              "<table class=\"table table-hover\">\n",
              "    <tr>\n",
              "        <th>Number of events</th>\n",
              "        <td>200</td>\n",
              "    </tr>\n",
              "    <tr>\n",
              "        <th>Events</th>\n",
              "        <td>Left: 100<br>foot: 100<br></td>\n",
              "    </tr>\n",
              "    <tr>\n",
              "        <th>Time range</th>\n",
              "        <td>0.500 – 2.500 sec</td>\n",
              "    </tr>\n",
              "    <tr>\n",
              "        <th>Baseline</th>\n",
              "        <td>0.500 – 2.500 sec</td>\n",
              "    </tr>\n",
              "</table>\n"
            ],
            "text/plain": [
              "<Epochs |  200 events (all good), 0.5 - 2.5 sec, baseline 0.5 – 2.5 sec, ~180.2 MB, data loaded,\n",
              " 'Left': 100\n",
              " 'foot': 100>"
            ]
          },
          "metadata": {
            "tags": []
          },
          "execution_count": 39
        }
      ]
    },
    {
      "cell_type": "code",
      "metadata": {
        "id": "9DB10m5M5X1g"
      },
      "source": [
        "from sklearn.model_selection import ShuffleSplit\n",
        "scores = []\n",
        "epochs_data = epochs.get_data()\n",
        "epochs_data_train = epochs_train.get_data()\n",
        "cv = ShuffleSplit(10, test_size=0.2, random_state=42)\n",
        "cv_split = cv.split(epochs_data_train)"
      ],
      "execution_count": 40,
      "outputs": []
    },
    {
      "cell_type": "code",
      "metadata": {
        "colab": {
          "base_uri": "https://localhost:8080/"
        },
        "id": "rYobUkl_LrTz",
        "outputId": "fed82dfa-9142-41b3-b49d-93fbe5475cae"
      },
      "source": [
        "y[0]"
      ],
      "execution_count": 41,
      "outputs": [
        {
          "output_type": "execute_result",
          "data": {
            "text/plain": [
              "array([ 1,  1, -1,  1,  1,  1,  1, -1, -1,  1, -1,  1, -1, -1, -1,  1, -1,\n",
              "       -1,  1, -1,  1,  1, -1, -1, -1, -1, -1,  1, -1, -1, -1, -1, -1, -1,\n",
              "       -1, -1, -1,  1,  1,  1, -1, -1,  1, -1,  1, -1,  1,  1,  1,  1,  1,\n",
              "        1,  1, -1,  1,  1,  1,  1,  1,  1, -1, -1, -1, -1,  1, -1,  1, -1,\n",
              "        1, -1, -1, -1,  1, -1, -1, -1,  1, -1,  1, -1, -1, -1,  1,  1,  1,\n",
              "       -1,  1,  1,  1, -1, -1,  1,  1,  1,  1, -1,  1,  1, -1,  1, -1,  1,\n",
              "        1,  1, -1,  1,  1, -1,  1, -1,  1, -1, -1, -1, -1,  1,  1, -1,  1,\n",
              "        1,  1,  1, -1,  1, -1, -1,  1,  1, -1, -1,  1,  1,  1,  1,  1,  1,\n",
              "        1, -1, -1, -1, -1,  1, -1, -1,  1, -1, -1, -1,  1,  1, -1, -1,  1,\n",
              "        1, -1,  1,  1,  1,  1, -1,  1, -1,  1, -1,  1, -1, -1, -1, -1, -1,\n",
              "        1,  1,  1,  1, -1, -1, -1, -1, -1,  1,  1, -1,  1, -1, -1, -1,  1,\n",
              "       -1,  1, -1,  1, -1, -1,  1, -1, -1, -1,  1,  1,  1], dtype=int16)"
            ]
          },
          "metadata": {
            "tags": []
          },
          "execution_count": 41
        }
      ]
    },
    {
      "cell_type": "code",
      "metadata": {
        "colab": {
          "base_uri": "https://localhost:8080/"
        },
        "id": "2oWK55yK6Ckj",
        "outputId": "5e593130-a6ee-4c03-e2b6-64c575403241"
      },
      "source": [
        "from sklearn.discriminant_analysis import LinearDiscriminantAnalysis\n",
        "from mne.decoding import CSP\n",
        "from sklearn.pipeline import Pipeline\n",
        "\n",
        "from sklearn.model_selection import cross_val_score\n",
        "#from sklearn.model_selection import Pipeline\n",
        "# Assemble a classifier\n",
        "lda = LinearDiscriminantAnalysis()\n",
        "csp = CSP(n_components=4, reg=None, log=True, norm_trace=False)\n",
        "\n",
        "# Use scikit-learn Pipeline with cross_val_score function\n",
        "clf = Pipeline([('CSP', csp), ('LDA', lda)])\n",
        "\n",
        "csp.fit_transform(epochs_data, y[0])\n"
      ],
      "execution_count": 42,
      "outputs": [
        {
          "output_type": "stream",
          "text": [
            "Computing rank from data with rank=None\n",
            "    Using tolerance 7.4e+03 (2.2e-16 eps * 59 dim * 5.7e+17  max singular value)\n",
            "    Estimated rank (mag): 59\n",
            "    MAG: rank 59 computed from 59 data channels with 0 projectors\n",
            "Reducing data rank from 59 -> 59\n",
            "Estimating covariance using EMPIRICAL\n",
            "Done.\n",
            "Computing rank from data with rank=None\n",
            "    Using tolerance 1e+04 (2.2e-16 eps * 59 dim * 7.8e+17  max singular value)\n",
            "    Estimated rank (mag): 59\n",
            "    MAG: rank 59 computed from 59 data channels with 0 projectors\n",
            "Reducing data rank from 59 -> 59\n",
            "Estimating covariance using EMPIRICAL\n",
            "Done.\n"
          ],
          "name": "stdout"
        },
        {
          "output_type": "execute_result",
          "data": {
            "text/plain": [
              "array([[-2.53422352, -0.41010375,  0.05186804, -0.78857981],\n",
              "       [ 0.72553863, -0.16165921,  0.57153799,  0.64214918],\n",
              "       [-1.99745793, -1.24461503, -0.95109864, -1.26252968],\n",
              "       [-1.94869403, -1.18176242, -1.03457117, -1.53204361],\n",
              "       [-2.76436816, -0.27032317, -1.36113209, -0.75999277],\n",
              "       [-3.20972932, -2.08426588, -2.19771183, -0.27185385],\n",
              "       [-2.85712231, -0.72814736, -0.29885177, -0.49768478],\n",
              "       [-3.74064378, -0.8888554 , -1.75057787, -1.79935844],\n",
              "       [-3.81075299, -2.23709333, -1.75672374, -1.74249739],\n",
              "       [-1.89744015, -0.92170162,  1.3759771 ,  0.04334067],\n",
              "       [-3.00842131, -1.88961284, -1.95426805, -1.65119715],\n",
              "       [-2.5951226 , -0.97476845, -0.89712086,  0.59564109],\n",
              "       [-3.604653  , -2.17145488, -2.28187468, -1.48403936],\n",
              "       [-3.64378081, -1.23798869, -2.07923424, -1.71935114],\n",
              "       [-3.33646169, -2.28975221, -1.05886619, -1.00231082],\n",
              "       [-3.32066236, -1.41887325, -0.78778303, -0.59061854],\n",
              "       [-3.83665213, -2.07373992, -2.08111292, -1.6320903 ],\n",
              "       [-3.6489522 , -2.56471758, -1.94222205, -1.3933704 ],\n",
              "       [-3.99254969,  0.00699068,  0.38954243, -0.6589055 ],\n",
              "       [-3.56649914, -1.98840592, -2.35714475, -2.22373826],\n",
              "       [-3.87956673, -1.74265294, -1.8164102 , -2.06288026],\n",
              "       [-3.35484942, -1.94095763, -2.06792753, -2.17661902],\n",
              "       [-3.7575585 , -2.38888662, -2.58260898, -1.38570886],\n",
              "       [-4.04646912, -1.78595179, -2.34294772, -1.78658701],\n",
              "       [-3.68591976, -1.92843503, -1.21583765, -1.5829753 ],\n",
              "       [-3.96884943, -0.36481904, -0.66842204, -1.87921259],\n",
              "       [-3.33131135, -1.87010673, -1.05589308, -1.18838167],\n",
              "       [-3.94849995,  0.6123093 ,  0.95928767, -0.20389883],\n",
              "       [-3.53316777, -1.40235103, -2.20120727, -1.22412115],\n",
              "       [-4.08412705, -1.8200999 , -2.38599148, -1.64436466],\n",
              "       [-3.49449224, -2.52978786, -2.446296  , -1.87584238],\n",
              "       [-3.34797298, -2.04938954, -1.61022254, -1.57248788],\n",
              "       [-3.58864141, -1.60002386, -2.07908006, -1.98477516],\n",
              "       [-3.52165925, -1.98548088, -1.95643533, -1.80847576],\n",
              "       [-3.78823874, -1.92491412, -1.75026911, -1.03835576],\n",
              "       [-2.55214022, -2.25234953, -1.30415018, -0.88618868],\n",
              "       [-2.91531461, -2.18007116, -2.44990609, -2.27191829],\n",
              "       [-3.35719021, -1.19729711, -1.84664962,  0.26907222],\n",
              "       [-2.74919453, -1.89409447, -0.96087641, -0.79428505],\n",
              "       [-3.10974379, -1.55457882, -1.37314263,  0.02262023],\n",
              "       [-3.39976739, -2.05698657, -1.66934591, -1.87733021],\n",
              "       [-3.91443891, -1.32575222, -1.04106949, -1.61677183],\n",
              "       [-3.12390575, -1.4631895 , -0.57766156, -1.81075571],\n",
              "       [-3.94833823, -1.87292598, -1.27428486, -1.48473605],\n",
              "       [-2.76553134, -1.19686449, -1.74133957, -2.20521893],\n",
              "       [-2.45603446, -2.11825355, -2.39157271, -1.07706076],\n",
              "       [-1.92924781,  2.74564671, -1.33217895,  2.42187064],\n",
              "       [-1.76173637, -0.25311575, -1.38497446,  0.4951682 ],\n",
              "       [-3.34608998, -1.44449301, -0.04503977, -0.48528879],\n",
              "       [-3.58167093, -2.40961346, -1.07458729, -1.76255768],\n",
              "       [-2.65156858, -0.85700498, -0.86066403, -0.29437911],\n",
              "       [-3.82076553, -1.20568942, -2.45938704, -1.70509606],\n",
              "       [-3.98698633, -0.29407761, -0.72139482, -0.8813502 ],\n",
              "       [-3.97605514, -2.68101658, -1.87027764, -2.02515087],\n",
              "       [-2.4826073 , -0.80016389, -1.02359504, -1.05964193],\n",
              "       [-3.0347594 , -1.3476227 , -1.64643548, -0.06248451],\n",
              "       [-3.57745186, -2.29602282, -2.15288914, -1.92801645],\n",
              "       [-3.42490737, -0.61189599, -1.69973099, -1.13688747],\n",
              "       [-3.58440544, -0.4084353 , -0.03671972, -1.45886022],\n",
              "       [-3.52977383, -1.86772615, -0.86534908, -0.75947356],\n",
              "       [-2.8512241 , -1.18102337, -1.16179069, -2.17141102],\n",
              "       [-4.12474748, -2.38232736, -1.68614087, -2.47438384],\n",
              "       [-3.7894185 , -1.79447585, -2.13911502, -1.56184319],\n",
              "       [-3.41598317, -1.92339217, -1.7710016 , -1.93653697],\n",
              "       [-3.6117705 , -1.08087744, -1.06847046, -1.74410719],\n",
              "       [-4.28211545, -2.31785554, -1.80681397, -2.02386872],\n",
              "       [-3.79264712, -0.19987211,  0.37050707, -0.15157011],\n",
              "       [-3.0921465 , -2.05478056, -1.47005077, -1.60609891],\n",
              "       [-3.8803411 , -1.39251959, -2.555086  , -1.26427687],\n",
              "       [-3.58187815, -2.62339789, -2.18081535, -2.11618494],\n",
              "       [-3.89212068, -1.70221618, -1.69985464, -2.50826057],\n",
              "       [-3.04126196, -1.34491598, -2.17684173, -1.17057148],\n",
              "       [ 4.1816014 ,  3.04076923,  3.13248943,  2.8432801 ],\n",
              "       [-0.98684545, -0.81526841, -0.58851105, -0.86320369],\n",
              "       [-1.24215831, -0.87555073, -1.044159  , -1.34940462],\n",
              "       [-2.63253427, -1.20281112, -1.79926376, -1.7212022 ],\n",
              "       [-2.94259299, -1.32798266, -0.15615461, -2.28859062],\n",
              "       [-3.51386103, -2.04744992, -1.4489716 , -1.10234905],\n",
              "       [-3.14360726,  0.02863708,  0.16179499,  0.24841851],\n",
              "       [-3.34862891, -2.16907221, -1.79044177, -1.79087866],\n",
              "       [-3.27764192, -2.70595781, -1.76009298, -1.1567342 ],\n",
              "       [-2.18721583, -2.03488558, -1.93406563, -1.75504337],\n",
              "       [-3.33007752, -1.76702164, -1.62577987, -1.39080052],\n",
              "       [-4.09347472, -2.60794323, -1.95098046, -1.12814246],\n",
              "       [-3.87704055, -0.96238392,  0.48258314, -1.51061885],\n",
              "       [-3.88751308, -1.59894618, -1.82240124, -1.60551956],\n",
              "       [-3.35156793, -2.35607976, -0.76972242, -0.59230041],\n",
              "       [-3.43467208, -1.79561377, -1.51271575, -1.24623986],\n",
              "       [-3.87918523, -2.2340064 , -2.21395275, -1.44839077],\n",
              "       [-4.04514659, -2.23107773, -2.49687838, -0.90115229],\n",
              "       [-2.91001006, -0.71928401, -1.68275352,  0.08498462],\n",
              "       [ 1.40515364,  1.01591566,  1.25049161,  1.14913923],\n",
              "       [-4.00666625, -0.86736363, -1.43001432, -1.88207668],\n",
              "       [-3.80675541, -1.83619365, -1.63529175,  0.04619877],\n",
              "       [-3.10903389, -2.53479993, -1.57661644, -0.70606079],\n",
              "       [-3.9204828 , -1.42311065, -1.90138964, -2.11504265],\n",
              "       [-3.55498546, -0.7327743 , -1.88129973, -0.43598869],\n",
              "       [-2.74220132, -2.29734523, -1.6183753 , -1.86423424],\n",
              "       [-4.23869646, -1.94683263, -2.13021776, -1.72355096],\n",
              "       [-4.21281481, -2.74484231, -1.24788783, -2.29614056],\n",
              "       [-3.69474369, -1.71136001, -1.37795273, -2.07763979],\n",
              "       [-2.68411125,  0.62649253, -0.25792626, -1.49553566],\n",
              "       [-3.35974687, -0.05859902, -1.0431157 , -2.40555725],\n",
              "       [-3.22996595, -1.66963914, -1.37495639, -0.90621847],\n",
              "       [-2.41725595, -1.94974874, -1.82444198, -2.12316982],\n",
              "       [-3.45751389, -0.95959754, -1.43715683, -1.81473784],\n",
              "       [-3.74251097, -1.9069061 , -1.21362316, -0.82396741],\n",
              "       [-3.27259018, -2.56025215, -2.34960549, -1.85759693],\n",
              "       [-2.49067235, -1.33484451, -0.72617437, -1.96556821],\n",
              "       [-4.14206202, -2.40327598, -2.14826858, -1.36326591],\n",
              "       [-3.39803058,  0.06131681, -1.38387458, -2.07043922],\n",
              "       [-3.64245723, -1.04606112, -1.55244378, -2.16711633],\n",
              "       [-3.75846776, -1.47149182, -2.10573245, -1.85254505],\n",
              "       [-3.90557955, -1.90378914, -1.8110182 , -2.44127641],\n",
              "       [-3.99455289, -1.42427376, -1.38810021, -1.34158178],\n",
              "       [-2.67950924, -1.52736509, -2.20461714, -0.27464601],\n",
              "       [-3.19046948, -2.19376739, -1.68853407, -2.42804321],\n",
              "       [-3.84616871, -1.61041942, -2.25031153, -1.74570926],\n",
              "       [-3.61869644, -0.59696255, -2.12550969, -1.71180228],\n",
              "       [-2.95532153, -1.10755052, -1.64890573, -1.32967054],\n",
              "       [-3.31829703, -1.72076055, -2.42537265, -1.85047427],\n",
              "       [-4.0029489 , -2.22756925, -1.75375905, -0.81848107],\n",
              "       [-3.17727355, -1.9202065 , -1.42966512, -1.13986564],\n",
              "       [-4.04637855, -2.33747174, -2.07833126, -1.37968035],\n",
              "       [-3.90700718, -2.26247533, -2.27753161, -1.87546471],\n",
              "       [-3.25439806, -1.97607587, -2.20390638, -1.73447897],\n",
              "       [-2.36964602, -2.17802416,  0.06886955, -2.2664504 ],\n",
              "       [-3.11307023, -2.01810964, -0.64950901, -2.06477042],\n",
              "       [-3.39317527, -2.07497242, -2.35161745, -2.09877299],\n",
              "       [-3.25507694, -1.4981781 , -2.03062556, -2.11196267],\n",
              "       [-2.77762971, -0.06446357,  0.79092431, -0.21470013],\n",
              "       [-2.40529498, -0.04367463,  0.0835721 , -2.35935582],\n",
              "       [-3.01725049, -2.14930383, -1.56868564, -1.1694614 ],\n",
              "       [-3.85175415, -2.62225944, -2.18742537, -0.66751335],\n",
              "       [-2.45039671, -1.43375195, -1.41012777, -1.39278223],\n",
              "       [-3.70892653, -1.60839521, -1.47037145, -1.44114817],\n",
              "       [-3.45951652, -1.81926082, -2.22184565, -2.01445341],\n",
              "       [-0.89977195,  0.34392569, -0.2425939 , -0.12870207],\n",
              "       [-3.94260542, -1.68335728, -2.18720358, -2.41516564],\n",
              "       [-3.79605017, -2.11441238, -2.3340662 , -1.45952255],\n",
              "       [-3.97424758, -2.20692713, -1.88100699, -1.26736969],\n",
              "       [-3.2185061 , -1.74848851, -1.95287717, -2.33618084],\n",
              "       [-3.88741237, -2.63766631, -2.20391912, -2.14485345],\n",
              "       [-3.58844104, -2.1759829 , -1.9216803 , -1.75146079],\n",
              "       [-4.04164708, -2.29168764, -1.80604965, -1.22423425],\n",
              "       [-3.75898017, -1.23455469, -2.27480285, -2.40941074],\n",
              "       [-2.6204949 , -1.96773976, -1.76894533, -1.99606607],\n",
              "       [-3.60782169, -1.58509432, -2.40773351, -1.69899487],\n",
              "       [-4.21916217, -2.46488162, -2.43455384, -2.09476123],\n",
              "       [-2.5923986 , -1.30234285, -0.60147367, -1.34032566],\n",
              "       [-3.80346727, -2.30964665, -2.60257697, -2.05310193],\n",
              "       [-4.36655918, -2.20929822, -2.25510074, -1.62805627],\n",
              "       [-3.70556576, -2.4993217 , -1.94809874, -1.79065764],\n",
              "       [-3.75032374, -1.48579874, -1.72884466, -1.79988227],\n",
              "       [-3.88760461, -1.48667883, -1.64512998, -1.70033874],\n",
              "       [-3.95055878, -0.62198385, -2.21040471, -1.34731499],\n",
              "       [-2.94001763, -2.17918952, -1.3234785 , -1.81332217],\n",
              "       [-2.63381732, -2.06491543, -1.86769988, -1.83043685],\n",
              "       [-3.78211406, -2.36823949, -1.73238661, -2.21478434],\n",
              "       [-3.80115081, -2.25461192, -2.29951412, -1.91502001],\n",
              "       [-0.39262199, -0.03427787, -0.15143175, -0.20543809],\n",
              "       [-3.93888349, -2.34671534, -2.34063135, -2.29127305],\n",
              "       [-2.77992605, -2.17547419, -2.22411818, -1.22646296],\n",
              "       [-3.90252026, -2.00905967, -2.1668684 , -2.0638509 ],\n",
              "       [-3.97694599, -1.25112298, -1.74609759, -2.29354352],\n",
              "       [-3.76594632, -2.20492576, -2.01106943, -1.75886991],\n",
              "       [-3.91994997, -1.77285091, -1.92477049, -2.23255123],\n",
              "       [-4.05593257, -2.31383544, -2.26670982, -1.86792234],\n",
              "       [-4.02427429, -2.60832324, -2.01485559, -2.50630036],\n",
              "       [-3.83403183, -2.48547536, -2.08841572, -2.50204875],\n",
              "       [-3.77531764, -0.67516024, -1.17860968, -2.28948187],\n",
              "       [-3.18975217, -1.58356728, -1.10916479, -1.40082933],\n",
              "       [-3.84087658, -1.93912782,  0.02990053, -0.5517782 ],\n",
              "       [-3.46378364, -0.90212153, -0.37471996, -0.77169887],\n",
              "       [-3.74885709, -2.05202884, -2.10834899, -1.6416821 ],\n",
              "       [ 2.71643821,  1.35688385,  1.96075241,  1.67191114],\n",
              "       [-2.54836806, -1.86637997, -1.83292759, -0.83633593],\n",
              "       [-2.82600708, -1.798505  , -2.31762117, -1.99892199],\n",
              "       [-2.78161612, -2.09071652, -2.09441968, -1.72332248],\n",
              "       [-3.35257376, -2.3053155 , -1.63466359, -1.87837224],\n",
              "       [-3.42190931, -2.25731358, -2.05125181, -2.22140297],\n",
              "       [-3.54281176, -2.41100761, -2.13436617, -2.01921172],\n",
              "       [-3.60920776, -1.64206754, -2.02043452, -2.03418543],\n",
              "       [-3.42214237, -1.8892181 , -0.62557641, -1.03367664],\n",
              "       [-3.79949589, -1.89667156, -2.54827526, -2.13617706],\n",
              "       [-3.64814352, -1.50751073, -2.10247102, -1.43543834],\n",
              "       [-3.55778063, -1.52491268, -1.83382637, -1.6730864 ],\n",
              "       [-3.68797772, -2.49332895, -2.08106576, -2.16618845],\n",
              "       [-3.72454925, -1.34251416, -2.21397304, -2.04332753],\n",
              "       [-3.83362091, -1.12631731, -2.57727869, -2.01902458],\n",
              "       [ 0.84764972,  1.19142439,  1.14234105,  1.1611783 ],\n",
              "       [-2.71837994, -1.40560105, -1.2150971 , -1.98583529],\n",
              "       [ 0.48113363, -0.46838437,  0.07298974, -0.48009496],\n",
              "       [-1.71779023, -1.48736427, -0.7315778 , -1.19097581],\n",
              "       [-2.79237977, -1.27644431, -1.73042359, -1.13507853],\n",
              "       [-3.15333181, -1.89147162, -0.96064948, -1.08150589],\n",
              "       [-3.13205837, -0.12655655, -1.5826828 , -0.98759991],\n",
              "       [-3.28997984, -1.85171109, -1.70929038, -1.40079641],\n",
              "       [-2.67182232, -1.75660339, -0.96605948, -1.58299617],\n",
              "       [-3.21154031, -0.65636946, -1.75635485, -0.62993364]])"
            ]
          },
          "metadata": {
            "tags": []
          },
          "execution_count": 42
        }
      ]
    },
    {
      "cell_type": "code",
      "metadata": {
        "id": "KL9oAqvLfk8G"
      },
      "source": [
        "cv = ShuffleSplit(10, test_size=0.2, random_state=42)\n",
        "cv_split = cv.split(epochs_data_train)"
      ],
      "execution_count": 43,
      "outputs": []
    },
    {
      "cell_type": "code",
      "metadata": {
        "colab": {
          "base_uri": "https://localhost:8080/"
        },
        "id": "yhjaDXPc1R3E",
        "outputId": "226e8dbf-62c4-4fe4-cc01-2392d089bc1a"
      },
      "source": [
        "cv"
      ],
      "execution_count": 44,
      "outputs": [
        {
          "output_type": "execute_result",
          "data": {
            "text/plain": [
              "ShuffleSplit(n_splits=10, random_state=42, test_size=0.2, train_size=None)"
            ]
          },
          "metadata": {
            "tags": []
          },
          "execution_count": 44
        }
      ]
    },
    {
      "cell_type": "code",
      "metadata": {
        "id": "VKGJQkDaMdyf",
        "colab": {
          "base_uri": "https://localhost:8080/"
        },
        "outputId": "e7fb1dad-b642-4415-ef6a-11b3d912795d"
      },
      "source": [
        "sfreq = raw.info['sfreq']\n",
        "w_length = int(sfreq * 0.5)   # running classifier: window length\n",
        "w_step = int(sfreq * 0.1)  # running classifier: window step size\n",
        "w_start = np.arange(0, epochs_data.shape[2] - w_length, w_step)\n",
        "\n",
        "scores_windows = []\n",
        "\n",
        "\n",
        "for train_idx, test_idx in cv_split:\n",
        "    y_train, y_test = y[0][train_idx], y[0][test_idx]\n",
        "\n",
        "    X_train = csp.fit_transform(epochs_data_train[train_idx], y_train)\n",
        "    X_test = csp.transform(epochs_data_train[test_idx])\n",
        "\n",
        "    # fit classifier\n",
        "    lda.fit(X_train, y_train)\n",
        "\n",
        "    # running classifier: test classifier on sliding window\n",
        "    score_this_window = []\n",
        "\n",
        "    for n in w_start:\n",
        "        X_test = csp.transform(epochs_data[test_idx])\n",
        "        score_this_window.append(lda.score(X_test, y_test))\n",
        "    scores_windows.append(score_this_window)\n",
        "\n",
        "# Plot scores over time\n",
        "w_times = (w_start + w_length / 2.) / sfreq + epochs.tmin\n",
        "\n"
      ],
      "execution_count": 45,
      "outputs": [
        {
          "output_type": "stream",
          "text": [
            "Computing rank from data with rank=None\n",
            "    Using tolerance 6.8e+03 (2.2e-16 eps * 59 dim * 5.2e+17  max singular value)\n",
            "    Estimated rank (mag): 59\n",
            "    MAG: rank 59 computed from 59 data channels with 0 projectors\n",
            "Reducing data rank from 59 -> 59\n",
            "Estimating covariance using EMPIRICAL\n",
            "Done.\n",
            "Computing rank from data with rank=None\n",
            "    Using tolerance 9.8e+03 (2.2e-16 eps * 59 dim * 7.5e+17  max singular value)\n",
            "    Estimated rank (mag): 59\n",
            "    MAG: rank 59 computed from 59 data channels with 0 projectors\n",
            "Reducing data rank from 59 -> 59\n",
            "Estimating covariance using EMPIRICAL\n",
            "Done.\n",
            "Computing rank from data with rank=None\n",
            "    Using tolerance 6.9e+03 (2.2e-16 eps * 59 dim * 5.2e+17  max singular value)\n",
            "    Estimated rank (mag): 59\n",
            "    MAG: rank 59 computed from 59 data channels with 0 projectors\n",
            "Reducing data rank from 59 -> 59\n",
            "Estimating covariance using EMPIRICAL\n",
            "Done.\n",
            "Computing rank from data with rank=None\n",
            "    Using tolerance 9.8e+03 (2.2e-16 eps * 59 dim * 7.5e+17  max singular value)\n",
            "    Estimated rank (mag): 59\n",
            "    MAG: rank 59 computed from 59 data channels with 0 projectors\n",
            "Reducing data rank from 59 -> 59\n",
            "Estimating covariance using EMPIRICAL\n",
            "Done.\n",
            "Computing rank from data with rank=None\n",
            "    Using tolerance 6.9e+03 (2.2e-16 eps * 59 dim * 5.2e+17  max singular value)\n",
            "    Estimated rank (mag): 59\n",
            "    MAG: rank 59 computed from 59 data channels with 0 projectors\n",
            "Reducing data rank from 59 -> 59\n",
            "Estimating covariance using EMPIRICAL\n",
            "Done.\n",
            "Computing rank from data with rank=None\n",
            "    Using tolerance 9.6e+03 (2.2e-16 eps * 59 dim * 7.3e+17  max singular value)\n",
            "    Estimated rank (mag): 59\n",
            "    MAG: rank 59 computed from 59 data channels with 0 projectors\n",
            "Reducing data rank from 59 -> 59\n",
            "Estimating covariance using EMPIRICAL\n",
            "Done.\n",
            "Computing rank from data with rank=None\n",
            "    Using tolerance 6.8e+03 (2.2e-16 eps * 59 dim * 5.2e+17  max singular value)\n",
            "    Estimated rank (mag): 59\n",
            "    MAG: rank 59 computed from 59 data channels with 0 projectors\n",
            "Reducing data rank from 59 -> 59\n",
            "Estimating covariance using EMPIRICAL\n",
            "Done.\n",
            "Computing rank from data with rank=None\n",
            "    Using tolerance 9.6e+03 (2.2e-16 eps * 59 dim * 7.3e+17  max singular value)\n",
            "    Estimated rank (mag): 59\n",
            "    MAG: rank 59 computed from 59 data channels with 0 projectors\n",
            "Reducing data rank from 59 -> 59\n",
            "Estimating covariance using EMPIRICAL\n",
            "Done.\n",
            "Computing rank from data with rank=None\n",
            "    Using tolerance 6.5e+03 (2.2e-16 eps * 59 dim * 5e+17  max singular value)\n",
            "    Estimated rank (mag): 59\n",
            "    MAG: rank 59 computed from 59 data channels with 0 projectors\n",
            "Reducing data rank from 59 -> 59\n",
            "Estimating covariance using EMPIRICAL\n",
            "Done.\n",
            "Computing rank from data with rank=None\n",
            "    Using tolerance 9.9e+03 (2.2e-16 eps * 59 dim * 7.6e+17  max singular value)\n",
            "    Estimated rank (mag): 59\n",
            "    MAG: rank 59 computed from 59 data channels with 0 projectors\n",
            "Reducing data rank from 59 -> 59\n",
            "Estimating covariance using EMPIRICAL\n",
            "Done.\n",
            "Computing rank from data with rank=None\n",
            "    Using tolerance 6.8e+03 (2.2e-16 eps * 59 dim * 5.2e+17  max singular value)\n",
            "    Estimated rank (mag): 59\n",
            "    MAG: rank 59 computed from 59 data channels with 0 projectors\n",
            "Reducing data rank from 59 -> 59\n",
            "Estimating covariance using EMPIRICAL\n",
            "Done.\n",
            "Computing rank from data with rank=None\n",
            "    Using tolerance 9.7e+03 (2.2e-16 eps * 59 dim * 7.4e+17  max singular value)\n",
            "    Estimated rank (mag): 59\n",
            "    MAG: rank 59 computed from 59 data channels with 0 projectors\n",
            "Reducing data rank from 59 -> 59\n",
            "Estimating covariance using EMPIRICAL\n",
            "Done.\n",
            "Computing rank from data with rank=None\n",
            "    Using tolerance 6.7e+03 (2.2e-16 eps * 59 dim * 5.1e+17  max singular value)\n",
            "    Estimated rank (mag): 59\n",
            "    MAG: rank 59 computed from 59 data channels with 0 projectors\n",
            "Reducing data rank from 59 -> 59\n",
            "Estimating covariance using EMPIRICAL\n",
            "Done.\n",
            "Computing rank from data with rank=None\n",
            "    Using tolerance 9.9e+03 (2.2e-16 eps * 59 dim * 7.6e+17  max singular value)\n",
            "    Estimated rank (mag): 59\n",
            "    MAG: rank 59 computed from 59 data channels with 0 projectors\n",
            "Reducing data rank from 59 -> 59\n",
            "Estimating covariance using EMPIRICAL\n",
            "Done.\n",
            "Computing rank from data with rank=None\n",
            "    Using tolerance 6.3e+03 (2.2e-16 eps * 59 dim * 4.8e+17  max singular value)\n",
            "    Estimated rank (mag): 59\n",
            "    MAG: rank 59 computed from 59 data channels with 0 projectors\n",
            "Reducing data rank from 59 -> 59\n",
            "Estimating covariance using EMPIRICAL\n",
            "Done.\n",
            "Computing rank from data with rank=None\n",
            "    Using tolerance 9.8e+03 (2.2e-16 eps * 59 dim * 7.5e+17  max singular value)\n",
            "    Estimated rank (mag): 59\n",
            "    MAG: rank 59 computed from 59 data channels with 0 projectors\n",
            "Reducing data rank from 59 -> 59\n",
            "Estimating covariance using EMPIRICAL\n",
            "Done.\n",
            "Computing rank from data with rank=None\n",
            "    Using tolerance 6.4e+03 (2.2e-16 eps * 59 dim * 4.8e+17  max singular value)\n",
            "    Estimated rank (mag): 59\n",
            "    MAG: rank 59 computed from 59 data channels with 0 projectors\n",
            "Reducing data rank from 59 -> 59\n",
            "Estimating covariance using EMPIRICAL\n",
            "Done.\n",
            "Computing rank from data with rank=None\n",
            "    Using tolerance 9.1e+03 (2.2e-16 eps * 59 dim * 6.9e+17  max singular value)\n",
            "    Estimated rank (mag): 59\n",
            "    MAG: rank 59 computed from 59 data channels with 0 projectors\n",
            "Reducing data rank from 59 -> 59\n",
            "Estimating covariance using EMPIRICAL\n",
            "Done.\n",
            "Computing rank from data with rank=None\n",
            "    Using tolerance 5.7e+03 (2.2e-16 eps * 59 dim * 4.3e+17  max singular value)\n",
            "    Estimated rank (mag): 59\n",
            "    MAG: rank 59 computed from 59 data channels with 0 projectors\n",
            "Reducing data rank from 59 -> 59\n",
            "Estimating covariance using EMPIRICAL\n",
            "Done.\n",
            "Computing rank from data with rank=None\n",
            "    Using tolerance 8.9e+03 (2.2e-16 eps * 59 dim * 6.8e+17  max singular value)\n",
            "    Estimated rank (mag): 59\n",
            "    MAG: rank 59 computed from 59 data channels with 0 projectors\n",
            "Reducing data rank from 59 -> 59\n",
            "Estimating covariance using EMPIRICAL\n",
            "Done.\n"
          ],
          "name": "stdout"
        }
      ]
    },
    {
      "cell_type": "code",
      "metadata": {
        "colab": {
          "base_uri": "https://localhost:8080/"
        },
        "id": "gLnhQjayyBTl",
        "outputId": "a3ccc79b-4a37-4297-b07c-f314ae9f6bb1"
      },
      "source": [
        "print(w_times)"
      ],
      "execution_count": 46,
      "outputs": [
        {
          "output_type": "stream",
          "text": [
            "[0.75 0.85 0.95 1.05 1.15 1.25 1.35 1.45 1.55 1.65 1.75 1.85 1.95 2.05\n",
            " 2.15 2.25]\n"
          ],
          "name": "stdout"
        }
      ]
    },
    {
      "cell_type": "code",
      "metadata": {
        "colab": {
          "base_uri": "https://localhost:8080/"
        },
        "id": "7fvqt1f-yBHo",
        "outputId": "bc76fa1f-c6c6-4ef9-8ee0-fde4ea110ecb"
      },
      "source": [
        "print((y_train,X_train.shape,X_test.shape, y_test.shape))"
      ],
      "execution_count": 47,
      "outputs": [
        {
          "output_type": "stream",
          "text": [
            "(array([ 1, -1,  1,  1, -1, -1, -1, -1, -1, -1, -1, -1, -1, -1, -1,  1,  1,\n",
            "       -1,  1,  1, -1, -1, -1,  1, -1, -1,  1, -1, -1, -1, -1, -1, -1,  1,\n",
            "        1,  1,  1,  1,  1,  1,  1,  1, -1, -1, -1,  1,  1, -1, -1,  1, -1,\n",
            "       -1, -1,  1,  1,  1,  1,  1, -1, -1,  1,  1, -1, -1,  1, -1,  1,  1,\n",
            "        1,  1,  1,  1, -1,  1,  1,  1,  1, -1,  1, -1, -1,  1, -1, -1, -1,\n",
            "       -1, -1, -1, -1, -1,  1,  1, -1, -1, -1, -1, -1,  1,  1,  1, -1,  1,\n",
            "        1, -1, -1,  1, -1, -1, -1,  1, -1, -1, -1,  1,  1, -1,  1,  1,  1,\n",
            "       -1,  1,  1,  1, -1,  1, -1, -1,  1, -1, -1, -1,  1, -1,  1,  1,  1,\n",
            "        1,  1,  1, -1,  1,  1, -1, -1,  1,  1,  1, -1,  1, -1, -1,  1, -1,\n",
            "        1,  1,  1,  1,  1,  1,  1], dtype=int16), (160, 4), (40, 4), (40,))\n"
          ],
          "name": "stdout"
        }
      ]
    },
    {
      "cell_type": "code",
      "metadata": {
        "colab": {
          "base_uri": "https://localhost:8080/",
          "height": 295
        },
        "id": "Csru4WU3yX2n",
        "outputId": "fb326bdc-574e-45c0-e56d-7f5ff439d79e"
      },
      "source": [
        "import matplotlib.pyplot as plt\n",
        "plt.figure()\n",
        "plt.plot(w_times, np.mean(scores_windows, 0), label='Score')\n",
        "plt.axvline(0, linestyle='--', color='k', label='Onset')\n",
        "plt.axhline(0.5, linestyle='-', color='k', label='Chance')\n",
        "plt.xlabel('time (s)')\n",
        "plt.ylabel('classification accuracy')\n",
        "plt.title('Classification score over time')\n",
        "plt.legend(loc='lower right')\n",
        "plt.show()"
      ],
      "execution_count": 48,
      "outputs": [
        {
          "output_type": "display_data",
          "data": {
            "image/png": "[encoded data removed]",
            "text/plain": [
              "<Figure size 432x288 with 1 Axes>"
            ]
          },
          "metadata": {
            "tags": [],
            "needs_background": "light"
          }
        }
      ]
    }
  ]
}